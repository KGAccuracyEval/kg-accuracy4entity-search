{
 "cells": [
  {
   "cell_type": "code",
   "execution_count": null,
   "id": "7d49e09a-cafa-40a8-900b-9b59a0680129",
   "metadata": {
    "pycharm": {
     "is_executing": true
    }
   },
   "outputs": [],
   "source": [
    "import random\n",
    "import numpy as np\n",
    "import pandas as pd\n",
    "\n",
    "from samplingTechniques import SRSSampler"
   ]
  },
  {
   "cell_type": "code",
   "execution_count": 2,
   "id": "3537fc8c-0fc8-4d09-be79-173b917926d7",
   "metadata": {},
   "outputs": [],
   "source": [
    "#### SET RANDOM SEED ####\n",
    "random.seed(42)\n",
    "np.random.seed(42)"
   ]
  },
  {
   "cell_type": "code",
   "execution_count": 4,
   "id": "31f081d1-bb03-4ac0-a509-115aece2078f",
   "metadata": {},
   "outputs": [],
   "source": [
    "#### LOAD REQUIRED DATA ####\n",
    "corpus = pd.read_csv('../data/corpus/fact_ranking_coll.tsv', sep='\\t')\n",
    "corpus['fact'] = corpus['en_id'] + ' ' + corpus['pred'] + ' ' + corpus['obj']\n",
    "with open('../data/utility/stratifiedFacts.csv', 'r') as f:\n",
    "    strata = f.readlines()\n",
    "strata = [stratum.strip().split(',') for stratum in strata]\n",
    "strata = [[int(_id) for _id in stratum] for stratum in strata]"
   ]
  },
  {
   "cell_type": "code",
   "execution_count": 6,
   "id": "7191d038-7644-440c-bb10-688a4dc87c55",
   "metadata": {},
   "outputs": [],
   "source": [
    "#### SET PARAMS ####\n",
    "alpha = 0.05  # estimator confidence level\n",
    "minSample = 30  # min 30 annotations required to run evaluation procedure\n",
    "thrMoE = 0.05  # stopping condition\n",
    "stratumID = 0  # stratum of choice for the evaluation"
   ]
  },
  {
   "cell_type": "code",
   "execution_count": 7,
   "id": "7eb7ceed-73c1-4af4-b4b1-4a0c40cde0da",
   "metadata": {},
   "outputs": [],
   "source": [
    "#### SET ESTIMATOR ####\n",
    "estimator = SRSSampler(alpha=alpha)"
   ]
  },
  {
   "cell_type": "code",
   "execution_count": null,
   "id": "fd9c2aad-2934-4312-8892-0db35dcc4c9c",
   "metadata": {
    "pycharm": {
     "is_executing": true
    }
   },
   "outputs": [],
   "source": [
    "#### PERFORM EVAL ####\n",
    "kg = corpus.loc[strata[stratumID], ['id', 'fact']]\n",
    "kg = kg.values.tolist()\n",
    "sample, stats = estimator.run(kg, stratumID, minSample, thrMoE)\n",
    "\n",
    "print('\\n\\nAnnotation process completed!')\n",
    "print('Evaluation stats:\\nSample size={}\\nAccuracy estimate={}\\nConfidence interval={}\\nAnnotation cost={}'.format(len(sample), stats[0], stats[1], stats[2]))"
   ]
  },
  {
   "cell_type": "code",
   "execution_count": null,
   "id": "9984e28c-e021-4953-b815-6181960557e8",
   "metadata": {},
   "outputs": [],
   "source": []
  }
 ],
 "metadata": {
  "kernelspec": {
   "display_name": "Python 3 (ipykernel)",
   "language": "python",
   "name": "python3"
  },
  "language_info": {
   "codemirror_mode": {
    "name": "ipython",
    "version": 3
   },
   "file_extension": ".py",
   "mimetype": "text/x-python",
   "name": "python",
   "nbconvert_exporter": "python",
   "pygments_lexer": "ipython3",
   "version": "3.12.0"
  }
 },
 "nbformat": 4,
 "nbformat_minor": 5
}